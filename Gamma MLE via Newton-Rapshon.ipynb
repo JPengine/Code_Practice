{
 "cells": [
  {
   "cell_type": "code",
   "execution_count": 42,
   "metadata": {},
   "outputs": [],
   "source": [
    "import numpy as np\n",
    "import pandas as pd\n",
    "import scipy.special"
   ]
  },
  {
   "cell_type": "code",
   "execution_count": 35,
   "metadata": {},
   "outputs": [
    {
     "data": {
      "text/html": [
       "<div>\n",
       "<style scoped>\n",
       "    .dataframe tbody tr th:only-of-type {\n",
       "        vertical-align: middle;\n",
       "    }\n",
       "\n",
       "    .dataframe tbody tr th {\n",
       "        vertical-align: top;\n",
       "    }\n",
       "\n",
       "    .dataframe thead th {\n",
       "        text-align: right;\n",
       "    }\n",
       "</style>\n",
       "<table border=\"1\" class=\"dataframe\">\n",
       "  <thead>\n",
       "    <tr style=\"text-align: right;\">\n",
       "      <th></th>\n",
       "      <th>Alpha</th>\n",
       "      <th>Beta</th>\n",
       "    </tr>\n",
       "  </thead>\n",
       "  <tbody>\n",
       "    <tr>\n",
       "      <th>0</th>\n",
       "      <td>1.716288</td>\n",
       "      <td>5.975918</td>\n",
       "    </tr>\n",
       "  </tbody>\n",
       "</table>\n",
       "</div>"
      ],
      "text/plain": [
       "      Alpha      Beta\n",
       "0  1.716288  5.975918"
      ]
     },
     "execution_count": 35,
     "metadata": {},
     "output_type": "execute_result"
    }
   ],
   "source": [
    "np.random.seed(5)\n",
    "x=np.random.gamma(2, 5, 100)\n",
    "Gamma_MME(x)"
   ]
  },
  {
   "cell_type": "code",
   "execution_count": 45,
   "metadata": {},
   "outputs": [],
   "source": [
    "def Gamma_MME(x):\n",
    "    n=len(x)\n",
    "    mean_x=np.mean(x)\n",
    "    alpha=n*(mean_x**2)/sum((x-mean_x)**2)\n",
    "    beta=sum((x-mean_x)**2)/(n*mean_x)\n",
    "    D={\"Alpha\":[alpha], \"Beta\":[beta]}\n",
    "    estimate_MME=pd.DataFrame(D)\n",
    "    return estimate_MME\n",
    "\n",
    "\n",
    "# MLE\n",
    "def Gamma_MLE(x):\n",
    "    n=len(x)\n",
    "    mean_x=np.mean(x)\n",
    "    alpha_0=Gamma_MME(x)['Alpha']  # Set initial value to apply the NR method\n",
    "    \n",
    "    alpha_mle=alpha_0\n",
    "    beta_mle=mean_x/alpha_0\n",
    "    conv=1000\n",
    "    \n",
    "    while conv>0.0000001:\n",
    "        first_der=n*np.log(alpha_0/mean_x)-n*scipy.special.digamma(alpha_0)+sum(np.log(x))\n",
    "        second_der=n/alpha_0 - n*scipy.special.polygamma(1, alpha_0)\n",
    "        next_alpha=alpha_0 - first_der/second_der # Next alpha\n",
    "        converg=abs(next_alpha - alpha_0) # Convergence \n",
    "        alpha_mle=alpha_mle.append(next_alpha)\n",
    "        beta_mle=beta_mle.append(mean_x/next_alpha)\n",
    "        alpha_0=next_alpha  # Update your alpha\n",
    "    \n",
    "    alpha=next_alpha\n",
    "    beta=mean_x/next_alpha\n",
    "    D={\"Alpha\":[alpha], \"Beta\":[beta]}\n",
    "    estimate_MLE=pd.DataFrame(D)\n",
    "    return estimate_MLE"
   ]
  },
  {
   "cell_type": "code",
   "execution_count": null,
   "metadata": {},
   "outputs": [],
   "source": [
    "Gamma_MLE(x)"
   ]
  }
 ],
 "metadata": {
  "kernelspec": {
   "display_name": "Python 3",
   "language": "python",
   "name": "python3"
  },
  "language_info": {
   "codemirror_mode": {
    "name": "ipython",
    "version": 3
   },
   "file_extension": ".py",
   "mimetype": "text/x-python",
   "name": "python",
   "nbconvert_exporter": "python",
   "pygments_lexer": "ipython3",
   "version": "3.8.5"
  }
 },
 "nbformat": 4,
 "nbformat_minor": 4
}
