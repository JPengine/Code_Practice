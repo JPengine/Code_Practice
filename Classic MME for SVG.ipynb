{
 "cells": [
  {
   "cell_type": "code",
   "execution_count": 6,
   "id": "85844a80",
   "metadata": {},
   "outputs": [],
   "source": [
    "import numpy as np\n",
    "import pandas as pd\n",
    "import statsmodels.api as sm\n",
    "import scipy\n",
    "import scipy.stats as ss\n",
    "from scipy.stats import moment\n",
    "from numpy import mean\n",
    "import math\n",
    "from pynverse import inversefunc"
   ]
  },
  {
   "cell_type": "code",
   "execution_count": 51,
   "id": "bed85625",
   "metadata": {},
   "outputs": [
    {
     "name": "stdout",
     "output_type": "stream",
     "text": [
      "[array([ 1.38229118, -0.50320792, -0.34435263, -0.08478615,  1.68141924,\n",
      "       -0.47386441, -0.88250638, -0.46672904,  1.78628612,  1.54284493]), array([-1.40503523e-01, -1.18576318e+00, -2.90215863e-01, -2.71944013e+00,\n",
      "       -2.00561516e+00, -4.37086260e-01,  6.21528408e-01, -8.83858089e-02,\n",
      "        1.67821006e-03,  6.87153047e-01]), array([ 0.96793033,  0.78452154, -0.79948764, -0.76040887,  2.47350683,\n",
      "       -0.42850054,  0.02411073,  2.20126901,  0.76252847,  1.70960331]), array([ 1.40346385,  0.85543225,  0.06182853, -0.06869712, -1.43924921,\n",
      "        0.10544101,  0.21768472, -0.76615193,  0.36863668, -1.61466734]), array([ 1.12852472, -0.48347485,  2.67410011,  1.09600042, -0.20931513,\n",
      "       -0.22925176, -0.44161431, -0.86405042,  2.305897  ,  0.38116022]), array([ 0.12694177, -0.14202234,  0.40023209, -2.05873458,  0.97507319,\n",
      "        2.33236324, -0.03418715,  0.02379854,  0.11081999, -1.23139195]), array([-2.08901412, -0.67422502,  1.0692518 , -1.84594542, -0.35370595,\n",
      "       -0.39097911,  0.13837645,  0.31356112,  1.54135655, -0.38301612]), array([ 0.88553768,  0.07218406, -0.60965972,  2.44164456,  0.64698577,\n",
      "       -0.43625026, -0.4784584 ,  0.0787731 ,  1.32576977,  0.1143566 ]), array([-0.90524037, -3.04100541, -1.20179511,  0.15515049,  0.65366574,\n",
      "       -0.15238493,  1.9290253 , -0.18794756,  0.03151614, -0.0719734 ]), array([-1.7195947 , -0.07017621, -0.35589328,  0.08200003,  0.27821734,\n",
      "        1.54642096,  0.05302546, -0.61437351, -0.07084714,  0.16357877]), array([ 0.2221385 , -0.02562745,  0.14867131, -0.15711928,  0.14347199,\n",
      "       -2.61675967, -0.1205639 , -0.06901327, -0.46639064, -0.09913699])]\n",
      "a hat    2.997924\n",
      "b_hat    0.205945\n",
      "dtype: float64\n"
     ]
    }
   ],
   "source": [
    "## SVG Classic MME\n",
    "np.random.seed(seed=123)\n",
    "# Generate a sample of n SVG random variables, repeat K times\n",
    "\n",
    "N=10\n",
    "DF=[]\n",
    "for i in range(0,N+1):\n",
    "    a=1\n",
    "    b=1\n",
    "    G=ss.gamma(a,scale=1).rvs(N)\n",
    "    Z=np.random.normal(size=N)\n",
    "    X=np.sqrt(b*G)*Z\n",
    "    DF.append(X)\n",
    "\n",
    "print(DF) \n",
    "\n",
    "\n",
    "# Denote them to be a hat b hat for the ith iteration \n",
    "res=[]\n",
    "\n",
    "for j in range(0,N+1):\n",
    "    v=moment(DF[j], moment=2)\n",
    "    k=moment(DF[j], moment=4)\n",
    "    a_hat=3*(v**2)/(k-3*(v**2))\n",
    "    b_hat=k/3*v - v\n",
    "    res.append((a_hat,b_hat))\n",
    "\n",
    "ress=pd.DataFrame(res, columns=['a hat','b_hat'])\n",
    "\n",
    "# FInd the MSEa & MSE b\n",
    "MSE= ress.mean(axis=0)\n",
    "print(MSE)"
   ]
  }
 ],
 "metadata": {
  "kernelspec": {
   "display_name": "Python 3 (ipykernel)",
   "language": "python",
   "name": "python3"
  },
  "language_info": {
   "codemirror_mode": {
    "name": "ipython",
    "version": 3
   },
   "file_extension": ".py",
   "mimetype": "text/x-python",
   "name": "python",
   "nbconvert_exporter": "python",
   "pygments_lexer": "ipython3",
   "version": "3.9.7"
  }
 },
 "nbformat": 4,
 "nbformat_minor": 5
}
